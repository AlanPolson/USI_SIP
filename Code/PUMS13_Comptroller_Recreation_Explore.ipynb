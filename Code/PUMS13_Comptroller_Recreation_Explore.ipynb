{
 "cells": [
  {
   "cell_type": "code",
   "execution_count": 1,
   "metadata": {
    "collapsed": true
   },
   "outputs": [],
   "source": [
    "#importing dependacies\n",
    "import pandas as pd\n",
    "import geopandas as gp"
   ]
  },
  {
   "cell_type": "code",
   "execution_count": 31,
   "metadata": {
    "collapsed": false
   },
   "outputs": [],
   "source": [
    "#reading in puma13 files\n",
    "pums13 = pd.read_csv(\"../Data/PUMs_NY/PUMS_NY_2013/ss13hny.csv\", usecols = ['PUMA','WGTP', 'ACCESS', 'BROADBND', \\\n",
    "        'COMPOTHX', 'DIALUP', 'DSL', 'FIBEROP','MODEM', 'SATELLITE','OTHSVCEX','HANDHELD','LAPTOP'], dtype = {'PUMA':str})\n",
    "#print \"PUMA 2013:\\n\", pums13.head(), len(pums13)\n",
    "#print \"\"\n",
    "#Reading in puma_nyc file and merging it\n",
    "puma_nyc = pd.read_csv(\"../Data/PUMA_NYC/Use_this/PUMA_NYC.txt\", usecols = ['PUMACE10'], dtype={'PUMACE10':str})\n",
    "p13 = pd.merge(pums13,puma_nyc, how='inner', left_on='PUMA',right_on='PUMACE10')\n",
    "#print \"Merged files:\\n\", pums13nyc.head(), len(pums13nyc)\n",
    "del p13['PUMACE10']"
   ]
  },
  {
   "cell_type": "code",
   "execution_count": 39,
   "metadata": {
    "collapsed": false
   },
   "outputs": [
    {
     "data": {
      "text/html": [
       "<div>\n",
       "<table border=\"1\" class=\"dataframe\">\n",
       "  <thead>\n",
       "    <tr style=\"text-align: right;\">\n",
       "      <th></th>\n",
       "      <th>PUMA</th>\n",
       "      <th>WGTP</th>\n",
       "      <th>ACCESS</th>\n",
       "      <th>BROADBND</th>\n",
       "      <th>COMPOTHX</th>\n",
       "      <th>DIALUP</th>\n",
       "      <th>DSL</th>\n",
       "      <th>FIBEROP</th>\n",
       "      <th>HANDHELD</th>\n",
       "      <th>LAPTOP</th>\n",
       "      <th>MODEM</th>\n",
       "      <th>OTHSVCEX</th>\n",
       "      <th>SATELLITE</th>\n",
       "    </tr>\n",
       "  </thead>\n",
       "  <tbody>\n",
       "    <tr>\n",
       "      <th>0</th>\n",
       "      <td>04011</td>\n",
       "      <td>95</td>\n",
       "      <td>1</td>\n",
       "      <td>2</td>\n",
       "      <td>2</td>\n",
       "      <td>2</td>\n",
       "      <td>2</td>\n",
       "      <td>2</td>\n",
       "      <td>1</td>\n",
       "      <td>1</td>\n",
       "      <td>1</td>\n",
       "      <td>2</td>\n",
       "      <td>2</td>\n",
       "    </tr>\n",
       "    <tr>\n",
       "      <th>1</th>\n",
       "      <td>04011</td>\n",
       "      <td>175</td>\n",
       "      <td>1</td>\n",
       "      <td>2</td>\n",
       "      <td>2</td>\n",
       "      <td>1</td>\n",
       "      <td>1</td>\n",
       "      <td>2</td>\n",
       "      <td>2</td>\n",
       "      <td>1</td>\n",
       "      <td>1</td>\n",
       "      <td>2</td>\n",
       "      <td>2</td>\n",
       "    </tr>\n",
       "    <tr>\n",
       "      <th>2</th>\n",
       "      <td>04011</td>\n",
       "      <td>79</td>\n",
       "      <td>1</td>\n",
       "      <td>2</td>\n",
       "      <td>2</td>\n",
       "      <td>2</td>\n",
       "      <td>2</td>\n",
       "      <td>2</td>\n",
       "      <td>1</td>\n",
       "      <td>1</td>\n",
       "      <td>1</td>\n",
       "      <td>2</td>\n",
       "      <td>2</td>\n",
       "    </tr>\n",
       "    <tr>\n",
       "      <th>4</th>\n",
       "      <td>04011</td>\n",
       "      <td>187</td>\n",
       "      <td>1</td>\n",
       "      <td>2</td>\n",
       "      <td>2</td>\n",
       "      <td>2</td>\n",
       "      <td>2</td>\n",
       "      <td>2</td>\n",
       "      <td>1</td>\n",
       "      <td>1</td>\n",
       "      <td>1</td>\n",
       "      <td>2</td>\n",
       "      <td>2</td>\n",
       "    </tr>\n",
       "    <tr>\n",
       "      <th>5</th>\n",
       "      <td>04011</td>\n",
       "      <td>87</td>\n",
       "      <td>3</td>\n",
       "      <td>NaN</td>\n",
       "      <td>2</td>\n",
       "      <td>NaN</td>\n",
       "      <td>NaN</td>\n",
       "      <td>NaN</td>\n",
       "      <td>2</td>\n",
       "      <td>2</td>\n",
       "      <td>NaN</td>\n",
       "      <td>NaN</td>\n",
       "      <td>NaN</td>\n",
       "    </tr>\n",
       "  </tbody>\n",
       "</table>\n",
       "</div>"
      ],
      "text/plain": [
       "    PUMA  WGTP  ACCESS  BROADBND  COMPOTHX  DIALUP  DSL  FIBEROP  HANDHELD  \\\n",
       "0  04011    95       1         2         2       2    2        2         1   \n",
       "1  04011   175       1         2         2       1    1        2         2   \n",
       "2  04011    79       1         2         2       2    2        2         1   \n",
       "4  04011   187       1         2         2       2    2        2         1   \n",
       "5  04011    87       3       NaN         2     NaN  NaN      NaN         2   \n",
       "\n",
       "   LAPTOP  MODEM  OTHSVCEX  SATELLITE  \n",
       "0       1      1         2          2  \n",
       "1       1      1         2          2  \n",
       "2       1      1         2          2  \n",
       "4       1      1         2          2  \n",
       "5       2    NaN       NaN        NaN  "
      ]
     },
     "execution_count": 39,
     "metadata": {},
     "output_type": "execute_result"
    }
   ],
   "source": [
    "p13.head()"
   ]
  },
  {
   "cell_type": "code",
   "execution_count": 45,
   "metadata": {
    "collapsed": false
   },
   "outputs": [
    {
     "data": {
      "text/html": [
       "<div>\n",
       "<table border=\"1\" class=\"dataframe\">\n",
       "  <thead>\n",
       "    <tr style=\"text-align: right;\">\n",
       "      <th></th>\n",
       "      <th>PUMA</th>\n",
       "      <th>WGTP</th>\n",
       "      <th>ACCESS</th>\n",
       "      <th>BROADBND</th>\n",
       "      <th>DIALUP</th>\n",
       "      <th>DSL</th>\n",
       "      <th>FIBEROP</th>\n",
       "      <th>MODEM</th>\n",
       "      <th>OTHSVCEX</th>\n",
       "      <th>SATELLITE</th>\n",
       "    </tr>\n",
       "  </thead>\n",
       "  <tbody>\n",
       "    <tr>\n",
       "      <th>0</th>\n",
       "      <td>04011</td>\n",
       "      <td>95</td>\n",
       "      <td>1</td>\n",
       "      <td>2</td>\n",
       "      <td>2</td>\n",
       "      <td>2</td>\n",
       "      <td>2</td>\n",
       "      <td>1</td>\n",
       "      <td>2</td>\n",
       "      <td>2</td>\n",
       "    </tr>\n",
       "    <tr>\n",
       "      <th>1</th>\n",
       "      <td>04011</td>\n",
       "      <td>175</td>\n",
       "      <td>1</td>\n",
       "      <td>2</td>\n",
       "      <td>1</td>\n",
       "      <td>1</td>\n",
       "      <td>2</td>\n",
       "      <td>1</td>\n",
       "      <td>2</td>\n",
       "      <td>2</td>\n",
       "    </tr>\n",
       "    <tr>\n",
       "      <th>2</th>\n",
       "      <td>04011</td>\n",
       "      <td>79</td>\n",
       "      <td>1</td>\n",
       "      <td>2</td>\n",
       "      <td>2</td>\n",
       "      <td>2</td>\n",
       "      <td>2</td>\n",
       "      <td>1</td>\n",
       "      <td>2</td>\n",
       "      <td>2</td>\n",
       "    </tr>\n",
       "    <tr>\n",
       "      <th>4</th>\n",
       "      <td>04011</td>\n",
       "      <td>187</td>\n",
       "      <td>1</td>\n",
       "      <td>2</td>\n",
       "      <td>2</td>\n",
       "      <td>2</td>\n",
       "      <td>2</td>\n",
       "      <td>1</td>\n",
       "      <td>2</td>\n",
       "      <td>2</td>\n",
       "    </tr>\n",
       "    <tr>\n",
       "      <th>5</th>\n",
       "      <td>04011</td>\n",
       "      <td>87</td>\n",
       "      <td>3</td>\n",
       "      <td>NaN</td>\n",
       "      <td>NaN</td>\n",
       "      <td>NaN</td>\n",
       "      <td>NaN</td>\n",
       "      <td>NaN</td>\n",
       "      <td>NaN</td>\n",
       "      <td>NaN</td>\n",
       "    </tr>\n",
       "  </tbody>\n",
       "</table>\n",
       "</div>"
      ],
      "text/plain": [
       "    PUMA  WGTP  ACCESS  BROADBND  DIALUP  DSL  FIBEROP  MODEM  OTHSVCEX  \\\n",
       "0  04011    95       1         2       2    2        2      1         2   \n",
       "1  04011   175       1         2       1    1        2      1         2   \n",
       "2  04011    79       1         2       2    2        2      1         2   \n",
       "4  04011   187       1         2       2    2        2      1         2   \n",
       "5  04011    87       3       NaN     NaN  NaN      NaN    NaN       NaN   \n",
       "\n",
       "   SATELLITE  \n",
       "0          2  \n",
       "1          2  \n",
       "2          2  \n",
       "4          2  \n",
       "5        NaN  "
      ]
     },
     "execution_count": 45,
     "metadata": {},
     "output_type": "execute_result"
    }
   ],
   "source": [
    "p13i = p13.drop(labels=['COMPOTHX','HANDHELD','LAPTOP'],axis=1)\n",
    "p13c = p13.drop(labels= ['ACCESS','BROADBND','DIALUP','DSL','FIBEROP','MODEM','OTHSVCEX','SATELLITE'],axis=1)\n",
    "p13i = p13i.dropna(how='all',thresh=1,subset=['ACCESS','BROADBND','DIALUP','DSL','FIBEROP','MODEM','SATELLITE','OTHSVCEX'])\n",
    "p13c = p13c.dropna(how='all',thresh=1,subset=['COMPOTHX','HANDHELD','LAPTOP'])\n",
    "p13i.head()"
   ]
  },
  {
   "cell_type": "code",
   "execution_count": 50,
   "metadata": {
    "collapsed": false
   },
   "outputs": [
    {
     "name": "stdout",
     "output_type": "stream",
     "text": [
      "For Computer Access:\n",
      "Total number of Households in NYC: 3,084,862\n",
      "For Internet Access:\n",
      "Total number of Households in NYC: 3,084,862\n"
     ]
    }
   ],
   "source": [
    "PUMAreas=p13c.groupby('PUMA')\n",
    "Tot_HH = (PUMAreas.WGTP.sum()).sum()\n",
    "print \"For Computer Access:\\nTotal number of Households in NYC: {0:,}\".format(Tot_HH) #No of HH in NYC\n",
    "PUMAreas=p13i.groupby('PUMA')\n",
    "Tot_HH = (PUMAreas.WGTP.sum()).sum()\n",
    "print \"For Internet Access:\\nTotal number of Households in NYC: {0:,}\".format(Tot_HH) #No of HH in NYC"
   ]
  },
  {
   "cell_type": "code",
   "execution_count": 56,
   "metadata": {
    "collapsed": false
   },
   "outputs": [
    {
     "name": "stdout",
     "output_type": "stream",
     "text": [
      "ACS defines Broadband Access as Internet Access other than Dial-Up, through Mobile BB, DSL, Fiberop, Modem, or Satellite\n",
      "Number of NYC HH with High Speed Internet(HSI) access: 2,272,025 (73.65%)\n",
      "Number of NYC HH without HSI Access: 812,837 (26.35%)\n"
     ]
    }
   ],
   "source": [
    "print \"ACS defines Broadband Access as Internet Access other than Dial-Up, through Mobile BB, DSL, Fiberop, Modem, or Satellite\"\n",
    "BB= p13i.ix[(p13i.BROADBND==1)|(p13i.DSL==1)|(p13i.FIBEROP==1)|(p13i.MODEM==1)|(p13i.SATELLITE==1)].WGTP.sum()\n",
    "print \"Number of NYC HH with High Speed Internet(HSI) access: {0:,} ({1:.2f}%)\".format(BB,BB/float(Tot_HH)*100)\n",
    "print \"Number of NYC HH without HSI Access: {0:,} ({1:.2f}%)\".format(Tot_HH-BB,(Tot_HH-BB)/float(Tot_HH)*100)"
   ]
  },
  {
   "cell_type": "code",
   "execution_count": 65,
   "metadata": {
    "collapsed": false
   },
   "outputs": [
    {
     "name": "stdout",
     "output_type": "stream",
     "text": [
      "Number of NYC HH with computer Access: 2,548,159 (82.60%)\n",
      "Number of NYC HH without computer Access: 536,703 (17.40%)\n"
     ]
    }
   ],
   "source": [
    "Comp= p13c.ix[(p13c.LAPTOP==1)|(p13c.HANDHELD==1)].WGTP.sum()\n",
    "print \"Number of NYC HH with computer Access: {0:,} ({1:.2f}%)\".format(Comp,Comp/float(Tot_HH)*100)\n",
    "print \"Number of NYC HH without computer Access: {0:,} ({1:.2f}%)\".format(Tot_HH-Comp,(Tot_HH-Comp)/float(Tot_HH)*100)"
   ]
  },
  {
   "cell_type": "code",
   "execution_count": 162,
   "metadata": {
    "collapsed": false
   },
   "outputs": [
    {
     "name": "stdout",
     "output_type": "stream",
     "text": [
      "ACCESS\n",
      "\n",
      "Number of HH with internet and subscription: 2,296,941 (74.46%)\n",
      "Number of HH with internet but no subscription: 113,458 (3.68%)\n",
      "Number of HH without internet: 674,463 (21.86%)\n"
     ]
    }
   ],
   "source": [
    "print \"ACCESS\\n\"\n",
    "TotAccess1 = inter2.ix[inter2.ACCESS==1].WGTP.sum()\n",
    "print \"Number of HH with internet and subscription: {0:,} ({1:.2f}%)\" .format(TotAccess1,(TotAccess1/float(Tot_HH))*100)\n",
    "\n",
    "TotAccess2 = inter2.ix[inter2.ACCESS==2].WGTP.sum()\n",
    "print \"Number of HH with internet but no subscription: {0:,} ({1:.2f}%)\" .format(TotAccess2,(TotAccess2/float(Tot_HH))*100)\n",
    "\n",
    "TotAccess3 = inter2.ix[inter2.ACCESS==3].WGTP.sum()\n",
    "print \"Number of HH without internet: {0:,} ({1:.2f}%)\" .format(TotAccess3,(TotAccess3/float(Tot_HH))*100)"
   ]
  },
  {
   "cell_type": "code",
   "execution_count": 164,
   "metadata": {
    "collapsed": false
   },
   "outputs": [
    {
     "name": "stdout",
     "output_type": "stream",
     "text": [
      "BROADBND\n",
      "\n",
      "Number of HH with internet: 886,847 (28.75%)\n",
      "Number of HH without internet: 1,410,094 (45.71%)\n",
      "alternatvely:\n",
      "Number of HH without internet: 2,198,015 (71.25%)\n"
     ]
    }
   ],
   "source": [
    "print \"BROADBND\\n\"\n",
    "TotBROADBND1 = inter2.ix[inter2.BROADBND==1].WGTP.sum()\n",
    "print \"Number of HH with internet: {0:,} ({1:.2f}%)\" .format(TotBROADBND1,(TotBROADBND1/float(Tot_HH))*100)\n",
    "\n",
    "TotBROADBND2 = inter2.ix[inter2.BROADBND==2].WGTP.sum()\n",
    "print \"Number of HH without internet: {0:,} ({1:.2f}%)\" .format(TotBROADBND2,(TotBROADBND2/float(Tot_HH))*100)\n",
    "\n",
    "print 'Alternatvely:'\n",
    "TotBROADBND21 = Tot_HH-TotBROADBND1\n",
    "print \"Number of HH without internet: {0:,} ({1:.2f}%)\" .format(TotBROADBND21,(TotBROADBND21/float(Tot_HH))*100)"
   ]
  },
  {
   "cell_type": "code",
   "execution_count": 169,
   "metadata": {
    "collapsed": false
   },
   "outputs": [
    {
     "name": "stdout",
     "output_type": "stream",
     "text": [
      "DSL\n",
      "\n",
      "Number of HH with internet: 403,670 (13.09%)\n",
      "Number of HH without internet: 1,893,271 (61.37%)\n",
      "Alternatvely:\n",
      "Number of HH without internet: 2,681,192 (86.91%)\n"
     ]
    }
   ],
   "source": [
    "#DSL\n",
    "TotDSL1 = inter2.ix[inter2.DSL==1].WGTP.sum()\n",
    "TotDSL2 = inter2.ix[inter2.DSL==2].WGTP.sum()\n",
    "TotDSL21 = Tot_HH-TotDSL1\n",
    "\n",
    "#Printing DSL\n",
    "print \"DSL\\n\"\n",
    "print \"Number of HH with internet: {0:,} ({1:.2f}%)\" .format(TotDSL1,(TotDSL1/float(Tot_HH))*100)\n",
    "print \"Number of HH without internet: {0:,} ({1:.2f}%)\" .format(TotDSL2,(TotDSL2/float(Tot_HH))*100)\n",
    "print 'Alternatvely:'\n",
    "print \"Number of HH without internet: {0:,} ({1:.2f}%)\" .format(TotDSL21,(TotDSL21/float(Tot_HH))*100)"
   ]
  },
  {
   "cell_type": "code",
   "execution_count": 185,
   "metadata": {
    "collapsed": false
   },
   "outputs": [
    {
     "name": "stdout",
     "output_type": "stream",
     "text": [
      "ACS \"BROADBND\"\n",
      "\n",
      "Number of HH with internet: 3,374,231 (109.38%)\n",
      "Number of HH without internet: -289,369 (-9.38%)\n",
      "\n",
      "\n",
      "Clearly, a bunch of people with internet have mobile phone broaband too\n",
      "Better Computation:\n",
      "\n",
      "Number of HH with internet: 2,272,025 (73.65%)\n",
      "Number of HH without internet: 812,837 (26.35%)\n"
     ]
    }
   ],
   "source": [
    "print \"ACS \\\"BROADBND\\\"\\n\"\n",
    "TotFIBEROP1 = inter2.ix[inter2.FIBEROP==1].WGTP.sum()\n",
    "TotMODEM1 = inter2.ix[inter2.MODEM==1].WGTP.sum()\n",
    "TotSATELLITE1 = inter2.ix[inter2.SATELLITE==1].WGTP.sum()\n",
    "\n",
    "Tot_ACS_BRDBND1 = TotBROADBND1+TotDSL1+TotFIBEROP1+TotMODEM1+TotSATELLITE1\n",
    "Tot_ACS_BRDBND21 = Tot_HH-Tot_ACS_BRDBND1\n",
    "\n",
    "Tot_ACS_BRDBND11 = inter2.ix[(inter2.BROADBND==1)|(inter2.DSL==1)|(inter2.FIBEROP==1)|(inter2.MODEM==1)|(inter2.SATELLITE==1)].WGTP.sum()\n",
    "Tot_ACS_BRDBND211 = Tot_HH-Tot_ACS_BRDBND11\n",
    "print \"Number of HH with internet: {0:,} ({1:.2f}%)\" .format(Tot_ACS_BRDBND1,(Tot_ACS_BRDBND1/float(Tot_HH))*100)\n",
    "print \"Number of HH without internet: {0:,} ({1:.2f}%)\" .format(Tot_ACS_BRDBND21,(Tot_ACS_BRDBND21/float(Tot_HH))*100)\n",
    "\n",
    "print \"\\n\\nClearly, a bunch of people with internet have mobile phone broaband too\"\n",
    "\n",
    "print \"Better Computation:\\n\"\n",
    "print \"Number of HH with internet: {0:,} ({1:.2f}%)\" .format(Tot_ACS_BRDBND11,(Tot_ACS_BRDBND11/float(Tot_HH))*100)\n",
    "print \"Number of HH without internet: {0:,} ({1:.2f}%)\" .format(Tot_ACS_BRDBND211,(Tot_ACS_BRDBND211/float(Tot_HH))*100)\n"
   ]
  },
  {
   "cell_type": "code",
   "execution_count": 183,
   "metadata": {
    "collapsed": false
   },
   "outputs": [],
   "source": [
    "Tot_ACS_BRDBND11 = inter2.ix[(inter2.BROADBND==1)|(inter2.DSL==1)|(inter2.FIBEROP==1)|(inter2.MODEM==1)|(inter2.SATELLITE==1)].WGTP.sum()\n"
   ]
  },
  {
   "cell_type": "code",
   "execution_count": null,
   "metadata": {
    "collapsed": true
   },
   "outputs": [],
   "source": []
  }
 ],
 "metadata": {
  "kernelspec": {
   "display_name": "Python 2",
   "language": "python",
   "name": "python2"
  },
  "language_info": {
   "codemirror_mode": {
    "name": "ipython",
    "version": 2
   },
   "file_extension": ".py",
   "mimetype": "text/x-python",
   "name": "python",
   "nbconvert_exporter": "python",
   "pygments_lexer": "ipython2",
   "version": "2.7.11"
  }
 },
 "nbformat": 4,
 "nbformat_minor": 0
}
