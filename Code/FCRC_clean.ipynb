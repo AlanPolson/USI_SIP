{
 "cells": [
  {
   "cell_type": "code",
   "execution_count": 48,
   "metadata": {
    "collapsed": false
   },
   "outputs": [
    {
     "name": "stdout",
     "output_type": "stream",
     "text": [
      " assessment of the bidder's business organization and financial fitness\n",
      " relevant experience and past performance on comparable projects\n",
      " the proposed design, functionality and services offered\n",
      " plans for installing, maintaining, and operating the structures to maximize public benefit, such as the number and distribution of structures outside of Manhattan and the equitable phase-in schedule for these structures\n",
      " commitments to improve design, technology and/or services during the term\n",
      " the anticipated overall positive economic impact on the City, including the number of jobs that will be created or preserved, and any ancillary economic benefits\n",
      " and the bidder's business model, advertising plan and expected revenue.\n"
     ]
    }
   ],
   "source": [
    "#input file and output stripped of new lines and line numbers\n",
    "#designed to clean FCRC report (make sure you don't copy line 1)\n",
    "#filename=raw_input(\"enter file path and full name with extension: \")\n",
    "filename=\"test.txt\"\n",
    "with open(filename,\"r\") as fi:\n",
    "    lines=[line.strip(\"\\n\\r\") for line in fi]\n",
    "    finalstring =\"\"\n",
    "    for line in lines:\n",
    "        numflg = 0\n",
    "        for char in line[:2]:\n",
    "            if char.isdigit():\n",
    "                numflg+=1\n",
    "        line=line[numflg:]\n",
    "        finalstring+=line\n",
    "    print finalstring.replace(\";\",\"\\n\")\n",
    "#with open(filename,'w') as fi:\n",
    "#    fi.write(finalstring)"
   ]
  },
  {
   "cell_type": "code",
   "execution_count": null,
   "metadata": {
    "collapsed": true
   },
   "outputs": [],
   "source": []
  }
 ],
 "metadata": {
  "kernelspec": {
   "display_name": "Python 2",
   "language": "python",
   "name": "python2"
  },
  "language_info": {
   "codemirror_mode": {
    "name": "ipython",
    "version": 2
   },
   "file_extension": ".py",
   "mimetype": "text/x-python",
   "name": "python",
   "nbconvert_exporter": "python",
   "pygments_lexer": "ipython2",
   "version": "2.7.11"
  }
 },
 "nbformat": 4,
 "nbformat_minor": 0
}
